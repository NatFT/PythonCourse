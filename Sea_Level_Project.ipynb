{
  "nbformat": 4,
  "nbformat_minor": 0,
  "metadata": {
    "colab": {
      "name": "Sea-Level-Project.ipynb",
      "provenance": [],
      "include_colab_link": true
    },
    "kernelspec": {
      "name": "python3",
      "display_name": "Python 3"
    },
    "language_info": {
      "name": "python"
    }
  },
  "cells": [
    {
      "cell_type": "markdown",
      "metadata": {
        "id": "view-in-github",
        "colab_type": "text"
      },
      "source": [
        "<a href=\"https://colab.research.google.com/github/NatFT/PythonCourse/blob/main/Sea_Level_Project.ipynb\" target=\"_parent\"><img src=\"https://colab.research.google.com/assets/colab-badge.svg\" alt=\"Open In Colab\"/></a>"
      ]
    },
    {
      "cell_type": "markdown",
      "source": [
        "# Using numpy to look for a correlation between time data and sea level rise\n",
        "---\n",
        "\n",
        "### Data Source\n",
        "Global Average Absolute Sea Level Change, 1880-2014 from the US Environmental Protection Agency using data from CSIRO, 2015; NOAA, 2015.\n",
        "https://datahub.io/core/sea-level-rise\n",
        "\n",
        "The data describes annual sea levels from 1880 to 2013.  Measures are adjusted using two standards: Commonwealth Scientific and Industrial Research Organisation(CSIRO) and National Oceanic and Atmospheric Administration (NOAA)  \n",
        "\n",
        "Raw Data file:  https://raw.githubusercontent.com/freeCodeCamp/boilerplate-sea-level-predictor/master/epa-sea-level.csv\n",
        "\n",
        "For this exercise:\n",
        "*  import the pandas library\n",
        "*  import the numpy library\n",
        "*  read the csv dataset containing data on sea-levels from the year 1880 to 2013 into a dataframe (df)\n",
        "*  use df.head() and df.info() to inspect the data and the column data types\n",
        "\n"
      ],
      "metadata": {
        "id": "jBYNdCdQ9_cu"
      }
    },
    {
      "cell_type": "code",
      "source": [
        "import pandas as pd\n",
        "import numpy as np\n",
        "\n",
        "df = pd.read_csv('https://raw.githubusercontent.com/freeCodeCamp/boilerplate-sea-level-predictor/master/epa-sea-level.csv')\n",
        "\n",
        "print(df.head())\n",
        "print(df.tail())\n",
        "df.info()"
      ],
      "metadata": {
        "id": "r1XUCWHV_Cj9",
        "colab": {
          "base_uri": "https://localhost:8080/"
        },
        "outputId": "99ac8f57-686b-417c-8823-1a95ac72f4a7"
      },
      "execution_count": 12,
      "outputs": [
        {
          "output_type": "stream",
          "name": "stdout",
          "text": [
            "   Year  CSIRO Adjusted Sea Level  Lower Error Bound  Upper Error Bound  \\\n",
            "0  1880                  0.000000          -0.952756           0.952756   \n",
            "1  1881                  0.220472          -0.732283           1.173228   \n",
            "2  1882                 -0.440945          -1.346457           0.464567   \n",
            "3  1883                 -0.232283          -1.129921           0.665354   \n",
            "4  1884                  0.590551          -0.283465           1.464567   \n",
            "\n",
            "   NOAA Adjusted Sea Level  \n",
            "0                      NaN  \n",
            "1                      NaN  \n",
            "2                      NaN  \n",
            "3                      NaN  \n",
            "4                      NaN  \n",
            "     Year  CSIRO Adjusted Sea Level  Lower Error Bound  Upper Error Bound  \\\n",
            "129  2009                  8.586614           8.311024           8.862205   \n",
            "130  2010                  8.901575           8.618110           9.185039   \n",
            "131  2011                  8.964567           8.661417           9.267717   \n",
            "132  2012                  9.326772           8.992126           9.661417   \n",
            "133  2013                  8.980315           8.622047           9.338583   \n",
            "\n",
            "     NOAA Adjusted Sea Level  \n",
            "129                 8.046354  \n",
            "130                 8.122973  \n",
            "131                 8.053065  \n",
            "132                 8.457058  \n",
            "133                 8.546648  \n",
            "<class 'pandas.core.frame.DataFrame'>\n",
            "RangeIndex: 134 entries, 0 to 133\n",
            "Data columns (total 5 columns):\n",
            " #   Column                    Non-Null Count  Dtype  \n",
            "---  ------                    --------------  -----  \n",
            " 0   Year                      134 non-null    int64  \n",
            " 1   CSIRO Adjusted Sea Level  134 non-null    float64\n",
            " 2   Lower Error Bound         134 non-null    float64\n",
            " 3   Upper Error Bound         134 non-null    float64\n",
            " 4   NOAA Adjusted Sea Level   21 non-null     float64\n",
            "dtypes: float64(4), int64(1)\n",
            "memory usage: 5.4 KB\n"
          ]
        }
      ]
    },
    {
      "cell_type": "markdown",
      "source": [
        "### Then\n",
        "---\n",
        "1.  Calculate some statistics on the level array, eg:\n",
        "*  mean\n",
        "*  standard deviation\n",
        "*  total \n",
        "\n",
        "2.  Use the fact that the arrays are aligned (e.g. the first number in the level array is linked to the first year in the year array and display:\n",
        "\n",
        "*  the year with the biggest rise in level\n",
        "*  the year with the lowest rise in level\n",
        "\n",
        "*(**Hint**:  to do this you can use a new numpy function np.where() )*\n",
        " ```\n",
        "np.where(array == value_to_find)\n",
        "```\n",
        "*There is some reference material [here](https://thispointer.com/find-the-index-of-a-value-in-numpy-array/)*\n",
        "\n",
        "**Note**: ```np.where(...)``` will return a tuple containing all indexes where that value was found.  You can print all, or you can print the first value (it is likely that there will only be one in this case) using [0][0].  *With the correct code you should get an answer of 2012*\n",
        "\n",
        "\n",
        "3.  Calculate the Pearson product-moment correlation coefficient between year and the rise in sea level.  (*Expected output:  0.98 when rounded to 2 decimal places*)"
      ],
      "metadata": {
        "id": "3cf1YPgnBSc2"
      }
    },
    {
      "cell_type": "code",
      "execution_count": 36,
      "metadata": {
        "id": "8VWUtmK4YhoU",
        "colab": {
          "base_uri": "https://localhost:8080/"
        },
        "outputId": "ff29ebfd-7610-483f-b18a-a3d734d93c93"
      },
      "outputs": [
        {
          "output_type": "stream",
          "name": "stdout",
          "text": [
            "The mean change in sea level is 3.65 inches to 2dp.\n",
            "The standard deviation of the change in sea levels is 2.48 inches to 2dp.\n",
            "The total change in sea level between 1800 an 2013 is 489.15 inches to 2dp.\n",
            "The year with the biggest rise in sea level was 2012 with a change of 9.33 inches to 2 dp.\n",
            "The year with the biggest reduction in sea level was 1882 with a change of -0.44 inches to 2 dp.\n",
            "The correlation coefficient is 0.98 to 2 dp. Therefore there is a strong coefficient and year, i.e. as the year increases so does the sea level.\n"
          ]
        }
      ],
      "source": [
        "sea_level = np.array(df['CSIRO Adjusted Sea Level'], np.float64)\n",
        "print(\"The mean change in sea level is\", round(sea_level.mean(),2), \"inches to 2dp.\")\n",
        "print(\"The standard deviation of the change in sea levels is\", round(sea_level.std(),2), \"inches to 2dp.\")\n",
        "print(\"The total change in sea level between 1800 an 2013 is\", round(sea_level.sum(),2), \"inches to 2dp.\")\n",
        "\n",
        "year = np.array(df['Year'], np.int64)\n",
        "\n",
        "max_index = np.where(sea_level == sea_level.max())\n",
        "print(\"The year with the biggest rise in sea level was\", int(year[max_index]), \"with a change of\", round(float(sea_level[max_index]),2), \"inches to 2 dp.\")\n",
        "min_index = np.where(sea_level == sea_level.min())\n",
        "print(\"The year with the biggest reduction in sea level was\", int(year[min_index]), \"with a change of\", round(float(sea_level[min_index]),2), \"inches to 2 dp.\")\n",
        "\n",
        "coef_matrix = np.corrcoef(year, sea_level)\n",
        "coef = coef_matrix[0][1]\n",
        "print(\"The correlation coefficient is\",round(coef,2),\"to 2 dp. Therefore there is a strong coefficient and year, i.e. as the year increases so does the sea level.\")"
      ]
    },
    {
      "cell_type": "markdown",
      "metadata": {
        "id": "yQyytEbnZ1lw"
      },
      "source": [
        "# Reflection\n",
        "----\n",
        "\n",
        "## What skills have you demonstrated in completing this notebook?"
      ]
    },
    {
      "cell_type": "markdown",
      "metadata": {
        "id": "MM00hR5aZk1-"
      },
      "source": [
        "Your answer: "
      ]
    },
    {
      "cell_type": "markdown",
      "metadata": {
        "id": "Zgexd27sZ1ly"
      },
      "source": [
        "## What caused you the most difficulty?"
      ]
    },
    {
      "cell_type": "markdown",
      "metadata": {
        "id": "-Y_nrVBwaGXr"
      },
      "source": [
        "Your answer: "
      ]
    }
  ]
}