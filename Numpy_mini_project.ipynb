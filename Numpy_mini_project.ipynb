{
  "nbformat": 4,
  "nbformat_minor": 0,
  "metadata": {
    "colab": {
      "name": "Numpy mini-project.ipynb",
      "provenance": [],
      "collapsed_sections": [],
      "include_colab_link": true
    },
    "kernelspec": {
      "name": "python3",
      "display_name": "Python 3"
    },
    "language_info": {
      "name": "python"
    }
  },
  "cells": [
    {
      "cell_type": "markdown",
      "metadata": {
        "id": "view-in-github",
        "colab_type": "text"
      },
      "source": [
        "<a href=\"https://colab.research.google.com/github/NatFT/PythonCourse/blob/main/Numpy_mini_project.ipynb\" target=\"_parent\"><img src=\"https://colab.research.google.com/assets/colab-badge.svg\" alt=\"Open In Colab\"/></a>"
      ]
    },
    {
      "cell_type": "markdown",
      "source": [
        "# Investigate, wrangle, add new data to the dataframe, filter and correlate\n",
        "\n",
        "The following data file contains data about student scores in math, reading and writing.  The exam scores are assumed to be percentages. It also contains data about gender, ethnicity, parental education, whether the student qualifies for free school food and whether or not the student has taken a preparation course for the exams.  The data set has already been cleaned. \n",
        "\n",
        "1.  Investigate the data set.\n",
        "\n",
        "2.  Create numpy arrays to hold each of the three sets of scores.  \n",
        "Create a new numpy array to hold the average exam score (of the three scores for each student)\n",
        "Add the new numpy array as a new column in the dataframe.\n",
        "\n",
        "3.  Filter the original dataset into a new dataframe containing just the females.  Calculate the average exam scores for all rows in this new dataframe and then find the mean of the average column.\n",
        "\n",
        "4.  Do the same for the males.\n",
        "\n",
        "5.  Use the original dataset to find the correlation coefficient for reading and maths.  How closely do they correlate?  Write what you find in a text box below the code.\n",
        "\n",
        "6.  Do the same for reading and writing. What do you find?\n",
        "\n",
        "7.  You might want to filter on different criteria and check correlation (e.g. those on free school meals, or those who had prepared, etc)\n",
        "\n",
        "\n",
        "\n",
        "\n",
        "\n"
      ],
      "metadata": {
        "id": "8qnlsapq24Df"
      }
    },
    {
      "cell_type": "markdown",
      "source": [
        "The dataset can be accessed here:  https://raw.githubusercontent.com/lilaceri/Working-with-data-/main/Data%20Sets%20for%20code%20divisio/exams.csv.  This is a .csv file.\n",
        "\n",
        "**NOTE:** Some useful references are included at the bottom of this spreadsheet.\n",
        "\n",
        "Use the code cell below to work your code."
      ],
      "metadata": {
        "id": "SSvLiFnp4LjG"
      }
    },
    {
      "cell_type": "code",
      "source": [
        "import pandas as pd\n",
        "import numpy as np\n",
        "\n",
        "url = \"https://raw.githubusercontent.com/lilaceri/Working-with-data-/main/Data%20Sets%20for%20code%20divisio/exams.csv\"\n",
        "df = pd.read_csv(url)\n",
        "# df.info()\n",
        "# display(df)\n",
        "\n",
        "#create arrays for each score\n",
        "maths_arr = np.array(df['math_score'], np.int64)\n",
        "reading_arr = np.array(df['reading_score'], np.int64)\n",
        "writing_arr = np.array(df['writing_score'], np.int64)\n",
        "\n",
        "#claculate average exam score for each student\n",
        "avg_exam_score = (maths_arr + reading_arr + writing_arr) / 3\n",
        "df['average_exam_score'] = avg_exam_score.tolist()\n",
        "# display(df)\n",
        "\n",
        "#calculate the overall mean of the average exam scores for the female students\n",
        "df_female = df[df['gender'] == 'female']\n",
        "# display(df_female)\n",
        "# df_female.info()\n",
        "avg_score_f = np.array(df_female['average_exam_score'], np.float64)\n",
        "avg_score_f_mean = avg_score_f.mean()\n",
        "print(avg_score_f_mean)\n",
        "\n",
        "#calculate the overall mean of the average exam scores for the male students\n",
        "df_male = df[df['gender'] == 'male']\n",
        "# display(df_male)\n",
        "# df_male.info()\n",
        "avg_score_m = np.array(df_male['average_exam_score'], np.float64)\n",
        "avg_score_m_mean = avg_score_m.mean()\n",
        "# print(avg_score_m_mean)\n",
        "\n",
        "#the correlation between maths and reading exam scores\n",
        "coef = np.corrcoef(maths_arr, reading_arr)\n",
        "# print(coef)\n",
        "\n",
        "#the correlation between reading and writing exam scores\n",
        "coef = np.corrcoef(writing_arr, reading_arr)\n",
        "print(coef)\n",
        "\n",
        "df_free_lunch = df[df['lunch'] == 'free/reduced']\n",
        "df_standard_lunch = df[df['lunch'] == 'standard']\n",
        "\n",
        "avg_score_free_lunch = np.array(df_free_lunch['average_exam_score'], np.float64)\n",
        "avg_score_standard_lunch = np.array(df_standard_lunch['average_exam_score'], np.float64)\n",
        "\n",
        "free_min = avg_score_free_lunch.min()\n",
        "free_mean = avg_score_free_lunch.mean()\n",
        "free_max = avg_score_free_lunch.max()\n",
        "print(free_min, free_mean, free_max)\n",
        "\n",
        "standard_min = avg_score_standard_lunch.min()\n",
        "standard_mean = avg_score_standard_lunch.mean()\n",
        "standard_max = avg_score_standard_lunch.max()\n",
        "print(standard_min, standard_mean, standard_max)\n",
        "\n",
        "diff_mean = standard_mean - free_mean\n",
        "print(diff_mean)"
      ],
      "metadata": {
        "id": "txM4TIRUHhsJ",
        "colab": {
          "base_uri": "https://localhost:8080/"
        },
        "outputId": "c609ec28-2ac6-4de1-c61d-15b9eec5f2d1"
      },
      "execution_count": 30,
      "outputs": [
        {
          "output_type": "stream",
          "name": "stdout",
          "text": [
            "70.81989247311829\n",
            "[[1.         0.95676863]\n",
            " [0.95676863 1.        ]]\n",
            "13.666666666666666 62.3399433427762 95.33333333333333\n",
            "17.333333333333332 71.68624420401855 100.0\n",
            "9.346300861242348\n"
          ]
        }
      ]
    },
    {
      "cell_type": "markdown",
      "source": [
        "The students maths and reading scores have a correlation coefficient of 0.81 (to 2dp). Therefore, there is a strong positive correlation, i.e. if a student does well in their maths exam they are likely to do well in their reading exam.\n",
        "\n",
        "The students reading and writing scores have a correlation coefficient of 0.96 (to 2dp). Therefore, there is a very strong positive correlation, i.e. if a student does well in their reading exam they are very likely to do well in their writing exam."
      ],
      "metadata": {
        "id": "yKrBIlrm72TS"
      }
    },
    {
      "cell_type": "markdown",
      "source": [
        "### Helpful references\n",
        "---\n",
        "\n",
        "Filtering on criteria using df references:  \n",
        "`filtered_df = df[df['column name' == value]]`  \n",
        "\n",
        "Filtering on multiple criteria using df reference:  \n",
        "`filtered_df = df[df['first column name' == value] & df[second column name] >= value]`\n",
        "\n",
        "Numpy help sheet:  http://datacamp-community-prod.s3.amazonaws.com/da466534-51fe-4c6d-b0cb-154f4782eb54\n",
        "\n"
      ],
      "metadata": {
        "id": "hkj-Ofus_D6_"
      }
    }
  ]
}