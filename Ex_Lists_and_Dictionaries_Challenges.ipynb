{
  "nbformat": 4,
  "nbformat_minor": 0,
  "metadata": {
    "colab": {
      "name": "Ex Lists and Dictionaries Challenges.ipynb",
      "provenance": [],
      "collapsed_sections": [],
      "include_colab_link": true
    },
    "kernelspec": {
      "name": "python3",
      "display_name": "Python 3"
    },
    "language_info": {
      "name": "python"
    }
  },
  "cells": [
    {
      "cell_type": "markdown",
      "metadata": {
        "id": "view-in-github",
        "colab_type": "text"
      },
      "source": [
        "<a href=\"https://colab.research.google.com/github/NatFT/PythonCourse/blob/main/Ex_Lists_and_Dictionaries_Challenges.ipynb\" target=\"_parent\"><img src=\"https://colab.research.google.com/assets/colab-badge.svg\" alt=\"Open In Colab\"/></a>"
      ]
    },
    {
      "cell_type": "markdown",
      "metadata": {
        "id": "nEJLJX3J9B2k"
      },
      "source": [
        "# Some challenges to help you become more confident with using Lists, Tuples and Dictionaries\n",
        "\n",
        "---\n",
        "\n"
      ]
    },
    {
      "cell_type": "markdown",
      "metadata": {
        "id": "JvV6htgh9Nc1"
      },
      "source": [
        "### Exercise 1 - extending a list\n",
        "\n",
        "There are three ways to extend a list in Python:  \n",
        "*  use `list_name.append(item)`, `list_name.insert(item)`\n",
        "*  concatenate two lists using the + operator (e.g. new_list = list1 + list2)\n",
        "*  use `list1_name.extend(list2_name)`\n",
        "\n",
        "The last method allows us to add all the `list2` items onto `list1` and for the new, extended list to now be `list1`.  `list2` will always be added to the end of `list1`.  \n",
        "\n",
        "If the objective is to add list2 before list1 then use `list2.extend(list1)`\n",
        "\n",
        "Write a function which will:  \n",
        "*  create a list of **years** containing the years 1960, 1970, 1980, 1990, 2000  \n",
        "*  print the list of years  \n",
        "*  calculate how long ago each year was and print the year and how long ago it was (e.g. 1990 was 30 years ago)  *(Hint:  use the datetime library to get the current year)*   \n",
        "*  create a second list, **years2** containing the years 2010 and 2020, extend `years` to include these later years\n",
        "*  create a third list, **years3** containing the years 1930, 1940 and 1950 and extend the list to include all the years between 1930 and 2020\n",
        "*  print the final list\n",
        "\n",
        "Expected output:  \n",
        "[1960, 1970, 1980, 1990]  \n",
        "1960 was 61 years ago  \n",
        "1970 was 51 years ago  \n",
        "1980 was 41 years ago  \n",
        "1990 was 31 years ago  \n",
        "2000 was 21 years ago  \n",
        "[1930, 1940, 1950, 1960, 1970, 1980, 1990, 2000, 2010, 2020] "
      ]
    },
    {
      "cell_type": "code",
      "metadata": {
        "id": "QAyTVqoO8-08",
        "colab": {
          "base_uri": "https://localhost:8080/"
        },
        "outputId": "14d43f8b-96bb-4329-97af-dddd26fc5508"
      },
      "source": [
        "from datetime import datetime\n",
        "\n",
        "def get_list_of_years():\n",
        "  years = [1960, 1970, 1980, 1990, 2000]\n",
        "  print(years)\n",
        "  for i in range(len(years)):\n",
        "    time = datetime.now().year - years[i]\n",
        "    print(years[i],\"was\",time,\"years ago\")\n",
        "  years2 = [2010, 2020]\n",
        "  years.extend(years2)\n",
        "  years3 = [1930, 1940, 1950]\n",
        "  years3.extend(years)\n",
        "  years = years3\n",
        "  print(years)\n",
        "\n",
        "get_list_of_years()"
      ],
      "execution_count": null,
      "outputs": [
        {
          "output_type": "stream",
          "name": "stdout",
          "text": [
            "[1960, 1970, 1980, 1990, 2000]\n",
            "1960 was 62 years ago\n",
            "1970 was 52 years ago\n",
            "1980 was 42 years ago\n",
            "1990 was 32 years ago\n",
            "2000 was 22 years ago\n",
            "[1930, 1940, 1950, 1960, 1970, 1980, 1990, 2000, 2010, 2020]\n"
          ]
        }
      ]
    },
    {
      "cell_type": "markdown",
      "metadata": {
        "id": "S5iPicFzBzOW"
      },
      "source": [
        "---\n",
        "### Exercise 2 - creating a dictionary from a tuple and three lists\n",
        "\n",
        "Write a function which will create a list of dictionary items using the values in a tuple as the dictionary keys and the values in three corresponding lists as the dictionary values.\n",
        "\n",
        "*  loop through the status items in the tuple called task_status\n",
        "*  for each status, loop through the list with the same name (*Hint:  you can use eval(status) to access the list with the matching name  e.g. for task in eval(status)* )\n",
        "*  each time round this second loop, create a dictionary object with the  key:value pair {status : task}\n",
        "*  add each new dictionary to a list called **project_board** that was created as an empty list before the loops  \n",
        "*  print the project_board list\n",
        "\n",
        "Expected output:  \n",
        "\n",
        "[{'assigned': 'task1'}, {'assigned': 'task2'}, {'assigned': 'task3'}, {'inprogress': 'task4'}, {'inprogress': 'task5'}, {'inprogress': 'task6'}, {'completed': 'task7'}, {'completed': 'task8'}, {'completed': 'task9'}] \n",
        "\n"
      ]
    },
    {
      "cell_type": "code",
      "metadata": {
        "id": "KXYOSHY-C7m4",
        "colab": {
          "base_uri": "https://localhost:8080/"
        },
        "outputId": "2b295647-67f4-4c64-b64c-9c034cc0526f"
      },
      "source": [
        "def create_project_board():\n",
        "  task_status = (\"assigned\", \"inprogress\", \"completed\")\n",
        "  assigned = ['task1','task2','task3']\n",
        "  inprogress = ['task4','task5','task6']\n",
        "  completed = ['task7','task8','task9']\n",
        "  #  add your code below here\n",
        "  project_board = {}\n",
        "  for status in task_status:\n",
        "    for task in eval(status):\n",
        "      pair = {task:status}\n",
        "      project_board.update(pair)\n",
        "  print(list(project_board.items()))\n",
        "\n",
        "create_project_board()\n"
      ],
      "execution_count": null,
      "outputs": [
        {
          "output_type": "stream",
          "name": "stdout",
          "text": [
            "[('task1', 'assigned'), ('task2', 'assigned'), ('task3', 'assigned'), ('task4', 'inprogress'), ('task5', 'inprogress'), ('task6', 'inprogress'), ('task7', 'completed'), ('task8', 'completed'), ('task9', 'completed')]\n"
          ]
        }
      ]
    },
    {
      "cell_type": "markdown",
      "metadata": {
        "id": "M1BuTu9p19Ma"
      },
      "source": [
        "---\n",
        "### Exercise 3 - names and heights\n",
        "\n",
        "Write a function which will allow a user to enter the names and heights of a set of people and add each set of information as a record (dictionary) to a list. The function will stop collecting names and heights when the user enters \"STOP\" as the name.\n",
        "\n",
        "Then, the function will:  \n",
        "\n",
        "*   produce a list of names in order of the shortest person to the tallest\n",
        "*   calculate the name of the tallest person\n",
        "*   calculate the name of the shortest person\n",
        "*   calculate the average height\n",
        "*   calculate the name of the person who is closest to the average height\n",
        "\n",
        "\n",
        "\n",
        "\n"
      ]
    },
    {
      "cell_type": "code",
      "metadata": {
        "id": "reuyww3e18uv",
        "colab": {
          "base_uri": "https://localhost:8080/"
        },
        "outputId": "2c9cce4c-8500-4c44-ffc0-348da116b191"
      },
      "source": [
        "def get_names_heights():\n",
        "  stop = False\n",
        "  height_dictionary = {}\n",
        "  person_list = []\n",
        "  shortest_to_tallest = []\n",
        "  smallest_person = {}\n",
        "  while stop == False: \n",
        "    name = input(\"Enter name (enter STOP to end programme): \")\n",
        "    if name == \"STOP\":\n",
        "      stop = True\n",
        "    else:\n",
        "      height = int(input(\"Enter height: \"))\n",
        "      pair = {\"name\":name, \"height\":height}\n",
        "      person_list.append(pair)\n",
        "  print(person_list)\n",
        "  while len(person_list) > 1:\n",
        "    smallest_height = 10000000\n",
        "    for person in person_list:\n",
        "      if person['height'] < smallest_height:\n",
        "        smallest_height = person['height']\n",
        "        smallest_person = person\n",
        "        smallest_index = person_list.index(person)\n",
        "    shortest_to_tallest.append(smallest_person)\n",
        "    person_list.pop(smallest_index)\n",
        "  shortest_to_tallest = shortest_to_tallest + person_list\n",
        "  print(person_list)\n",
        "  print(shortest_to_tallest)\n",
        "  print(smallest_height)\n",
        "  print(smallest_person)\n",
        "\n",
        "\n",
        "get_names_heights()"
      ],
      "execution_count": 1,
      "outputs": [
        {
          "output_type": "stream",
          "name": "stdout",
          "text": [
            "Enter name (enter STOP to end programme): A\n",
            "Enter height: 30\n",
            "Enter name (enter STOP to end programme): B\n",
            "Enter height: 10\n",
            "Enter name (enter STOP to end programme): C\n",
            "Enter height: 15\n",
            "Enter name (enter STOP to end programme): STOP\n",
            "[{'name': 'A', 'height': 30}, {'name': 'B', 'height': 10}, {'name': 'C', 'height': 15}]\n",
            "[{'name': 'A', 'height': 30}]\n",
            "[{'name': 'B', 'height': 10}, {'name': 'C', 'height': 15}, {'name': 'A', 'height': 30}]\n",
            "15\n",
            "{'name': 'C', 'height': 15}\n"
          ]
        }
      ]
    },
    {
      "cell_type": "code",
      "source": [
        "#using item getter\n",
        "from operator import itemgetter\n",
        "def get_names_heights():\n",
        "  stop = False\n",
        "  person_list = []\n",
        "  while stop == False: \n",
        "    name = input(\"Enter name (enter STOP to end programme): \")\n",
        "    if name == \"STOP\":\n",
        "      stop = True\n",
        "    else:\n",
        "      height = int(input(\"Enter height: \"))\n",
        "      pair = {\"name\":name, \"height\":height}\n",
        "      person_list.append(pair)\n",
        "  print(person_list)\n",
        "  print(sorted(person_list, key = itemgetter('height')))\n",
        "\n",
        "get_names_heights()"
      ],
      "metadata": {
        "id": "QoM5CxUXelZa",
        "colab": {
          "base_uri": "https://localhost:8080/"
        },
        "outputId": "70c4fd5c-826e-4d2c-8da2-da0cb74f950d"
      },
      "execution_count": 3,
      "outputs": [
        {
          "output_type": "stream",
          "name": "stdout",
          "text": [
            "Enter name (enter STOP to end programme): A\n",
            "Enter height: 90\n",
            "Enter name (enter STOP to end programme): B\n",
            "Enter height: 10\n",
            "Enter name (enter STOP to end programme): C\n",
            "Enter height: 45\n",
            "Enter name (enter STOP to end programme): STOP\n",
            "[{'name': 'A', 'height': 90}, {'name': 'B', 'height': 10}, {'name': 'C', 'height': 45}]\n",
            "[{'name': 'B', 'height': 10}, {'name': 'C', 'height': 45}, {'name': 'A', 'height': 90}]\n"
          ]
        }
      ]
    }
  ]
}