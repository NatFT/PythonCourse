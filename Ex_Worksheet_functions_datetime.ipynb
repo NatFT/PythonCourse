{
  "nbformat": 4,
  "nbformat_minor": 0,
  "metadata": {
    "colab": {
      "name": "Ex Worksheet-functions-datetime.ipynb",
      "provenance": [],
      "collapsed_sections": [],
      "include_colab_link": true
    },
    "kernelspec": {
      "name": "python3",
      "display_name": "Python 3"
    },
    "language_info": {
      "name": "python"
    }
  },
  "cells": [
    {
      "cell_type": "markdown",
      "metadata": {
        "id": "view-in-github",
        "colab_type": "text"
      },
      "source": [
        "<a href=\"https://colab.research.google.com/github/NatFT/PythonCourse/blob/main/Ex_Worksheet_functions_datetime.ipynb\" target=\"_parent\"><img src=\"https://colab.research.google.com/assets/colab-badge.svg\" alt=\"Open In Colab\"/></a>"
      ]
    },
    {
      "cell_type": "markdown",
      "metadata": {
        "id": "7iQyKP-SQiw1"
      },
      "source": [
        "# User-defined functions using datetime library\n",
        "\n",
        "---\n"
      ]
    },
    {
      "cell_type": "markdown",
      "metadata": {
        "id": "Vi93h5I4QnKs"
      },
      "source": [
        "When working with dates and times, fairly common in data sets, we need to be able to extract certain bits of information.  \n",
        "\n",
        "In Python, as with other languages, dates and times are stored in a data structure that combines the two together and stores the information as a number of seconds since a start point (often 1st January 1900).  This is obviously a large number but every bit of information about a date can be extracted from it and used to give a wide range of information.  \n",
        "\n",
        "Have a go at the exercises below to use a selection of datetime functions and return a new bit of data from each, to be printed by the caller.\n",
        "\n",
        "Before you can use datetime functions you will need to import them. Import the datetime functions like this:\n",
        "\n",
        "`from datetime import datetime`  \n",
        "\n",
        "\n",
        "For more information about datetime functions visit [w3Schools-Python datetime](https://www.w3schools.com/python/python_datetime.asp) and [Python docs](https://docs.python.org/3/library/datetime.html)"
      ]
    },
    {
      "cell_type": "markdown",
      "metadata": {
        "id": "MIDLi7CNR034"
      },
      "source": [
        "---\n",
        "### Exercise 1 - print current date and time\n",
        "\n",
        "Write a function that will return the date and time now.  The caller will print it.  \n",
        "\n",
        "*Hint:  the format has been added for you, the other exercises will follow a similar format.   Always remember to import datetime from datetime as shown below*"
      ]
    },
    {
      "cell_type": "code",
      "metadata": {
        "id": "gS6GJdXbQfHp",
        "colab": {
          "base_uri": "https://localhost:8080/"
        },
        "outputId": "57e1eb30-8bf1-44b0-b3e4-7f70fa83cc75"
      },
      "source": [
        "from datetime import datetime, timezone\n",
        "# add your function, called get_datetime_now() below here\n",
        "\n",
        "def get_datetime_now():\n",
        "  now = datetime.now()\n",
        "  return now\n",
        "\n",
        "now_date_time = get_datetime_now()\n",
        "print(now_date_time)"
      ],
      "execution_count": 12,
      "outputs": [
        {
          "output_type": "stream",
          "name": "stdout",
          "text": [
            "2022-04-19 12:40:12.685483\n"
          ]
        }
      ]
    },
    {
      "cell_type": "markdown",
      "metadata": {
        "id": "Yy24sL0bUtpF"
      },
      "source": [
        "---\n",
        "Exercise 2 - print the current year\n",
        "\n",
        "Write a function that will return the current year.  The caller will print the year."
      ]
    },
    {
      "cell_type": "code",
      "metadata": {
        "id": "YqlQqPIqUtyr",
        "colab": {
          "base_uri": "https://localhost:8080/"
        },
        "outputId": "632db6ee-19c5-408e-8f2d-cb15ae814332"
      },
      "source": [
        "from datetime import datetime, timezone\n",
        "\n",
        "def get_current_year():\n",
        "  now = datetime.now()\n",
        "  return now.strftime(\"%Y\")\n",
        "\n",
        "print(get_current_year())"
      ],
      "execution_count": 21,
      "outputs": [
        {
          "output_type": "stream",
          "name": "stdout",
          "text": [
            "2022\n"
          ]
        }
      ]
    },
    {
      "cell_type": "markdown",
      "metadata": {
        "id": "FzSVCaJKV1O1"
      },
      "source": [
        "---\n",
        "### Exercise 3 - print the current day of the week\n",
        "\n",
        "Write a function that will return the current day of the week.  The caller will print it."
      ]
    },
    {
      "cell_type": "code",
      "metadata": {
        "id": "OP4ZIXBWV1Yj",
        "colab": {
          "base_uri": "https://localhost:8080/"
        },
        "outputId": "d3c29a08-08d9-4897-893a-f3c536872356"
      },
      "source": [
        "from datetime import datetime, timezone\n",
        "\n",
        "def get_current_year():\n",
        "  now = datetime.now()\n",
        "  return now.strftime(\"%A\")\n",
        "\n",
        "print(get_current_year())"
      ],
      "execution_count": 22,
      "outputs": [
        {
          "output_type": "stream",
          "name": "stdout",
          "text": [
            "Tuesday\n"
          ]
        }
      ]
    },
    {
      "cell_type": "markdown",
      "metadata": {
        "id": "a8euCtdmWIDE"
      },
      "source": [
        "---\n",
        "### Exercise 4 - create a new date\n",
        "\n",
        "Write a function that will take 3 parameters, day, month, year (3 numbers that make a valid date) and will create, and return a new date.  The caller will print the date."
      ]
    },
    {
      "cell_type": "code",
      "metadata": {
        "id": "FbOFnTwnWILN",
        "colab": {
          "base_uri": "https://localhost:8080/"
        },
        "outputId": "50cfd8de-98d1-44be-c2f2-951eeca0000a"
      },
      "source": [
        "from datetime import datetime, timezone\n",
        "\n",
        "def get_new_date(day,month,year):\n",
        "  date = datetime(year,month,day)\n",
        "  print(date.strftime(\"%d\"+\"-\"+\"%m\"+\"-\"+\"%Y\"))\n",
        "\n",
        "get_new_date(1,1,2000)"
      ],
      "execution_count": 41,
      "outputs": [
        {
          "output_type": "stream",
          "name": "stdout",
          "text": [
            "01-01-2000\n"
          ]
        }
      ]
    },
    {
      "cell_type": "markdown",
      "metadata": {
        "id": "f5SKVuE0WfcE"
      },
      "source": [
        "---\n",
        "### Exercise 5 - create a valid date\n",
        "\n",
        "Write a function that will take 3 parameters, day, month, year (3 numbers) and will:  \n",
        "*   check that the month is between 1 and 12  \n",
        "*   check that the day is valid for the month (e.g. if the month is 2, then the day must be between 1 and 28 (don't worry about leap years for the moment)  \n",
        "*   if the date is not valid, print an error message and return None (which the caller will print)  \n",
        "*   if the date is valid, store it in a new variable, return the variable and the caller will print it."
      ]
    },
    {
      "cell_type": "code",
      "metadata": {
        "id": "gclt-f9-XfdG",
        "colab": {
          "base_uri": "https://localhost:8080/"
        },
        "outputId": "cb7bb6d0-ba72-412e-d741-e480c84178e0"
      },
      "source": [
        "from datetime import datetime, timezone\n",
        "\n",
        "def get_valid_date(day,month,year):\n",
        "  month_valid = False\n",
        "  day_valid = False\n",
        "  if month in range(1,12):\n",
        "    month_valid = True\n",
        "  else:\n",
        "    print(\"This is not a valid date\")\n",
        "    return None\n",
        "  if month == 2 and day in range(1,29):\n",
        "    day_valid = True\n",
        "  if month == 4 or month == 6 or month == 9 or month == 11 and day in range(1,31):\n",
        "    day_valid = True\n",
        "  if month == 1 or month == 3 or month == 5 or month == 7 or month == 8 or month == 10 or month == 12 and day in range(1,32):\n",
        "    day_valid = True\n",
        "  else:\n",
        "    print(\"This is not a valid date\")\n",
        "  return None\n",
        "  if month_valid == True and day_valid == True:\n",
        "    date = datetime(year,month,day)\n",
        "    #return  date\n",
        "    print(date.strftime(\"%d\"+\"-\"+\"%m\"+\"-\"+\"%Y\"))\n",
        "\n",
        "get_valid_date(31,9,2003)\n"
      ],
      "execution_count": 90,
      "outputs": [
        {
          "output_type": "stream",
          "name": "stdout",
          "text": [
            "This is not a valid date\n"
          ]
        }
      ]
    },
    {
      "cell_type": "markdown",
      "metadata": {
        "id": "js7fy2HWXfm2"
      },
      "source": [
        "---\n",
        "### Exercise 6 - is it a leap year?\n",
        "\n",
        "Write a function that will take a date as a parameter (you will need to create the date variable before calling the function) and will determine if it is a leap year, returning True or False.\n",
        "\n",
        "*Hint:  a leap year is a year that is divisible by 4 but the centuries (1900, 2000, etc are only leap years if they are divisible by 400)*"
      ]
    },
    {
      "cell_type": "code",
      "metadata": {
        "id": "KY1jtf3lX_ps",
        "colab": {
          "base_uri": "https://localhost:8080/"
        },
        "outputId": "871a76e6-e8b8-4198-dbba-3daa2172de21"
      },
      "source": [
        "from datetime import datetime\n",
        "def is_leap_year(date_to_check):\n",
        "  # add your code below here\n",
        "  year_to_check = int(date_to_check.strftime(\"%Y\"))\n",
        "  leap_year = False\n",
        "  if year_to_check % 100 == 0:\n",
        "    if year_to_check % 400 == 0:\n",
        "      leap_year = True\n",
        "      return leap_year\n",
        "    else:\n",
        "      leap_year = False\n",
        "      return leap_year\n",
        "  else:\n",
        "    if year_to_check % 4 == 0:\n",
        "      leap_year = True\n",
        "      return leap_year\n",
        "    else:\n",
        "      leap_year = False\n",
        "      return leap_year\n",
        "\n",
        "check_date = datetime(1996, 12, 15)\n",
        "if is_leap_year(check_date):\n",
        "  print(check_date.strftime(\"%Y\"), \"is a leap year\")\n",
        "else:\n",
        "  print(check_date.strftime(\"%Y\"), \"is not a leap year\")"
      ],
      "execution_count": 100,
      "outputs": [
        {
          "output_type": "stream",
          "name": "stdout",
          "text": [
            "1996 is a leap year\n"
          ]
        }
      ]
    },
    {
      "cell_type": "markdown",
      "metadata": {
        "id": "9BuRDi08YAO0"
      },
      "source": [
        "---\n",
        "### Exercise 7 - display parts of date/time\n",
        "\n",
        "Write a function that will take a date and print from it the following:  \n",
        "*  given date and time  \n",
        "*  year (in full) \n",
        "*  month (as a number) \n",
        "*  month name \n",
        "*  week number of the year  \n",
        "*  weekday of the week (as a number)  \n",
        "*  day of year  \n",
        "*  day of the month  \n",
        "*  day of week (as a name)  \n",
        "\n",
        "*Hint:  see w3Schools for [strftime reference](https://www.w3schools.com/python/python_datetime.asp)*\n",
        "\n"
      ]
    },
    {
      "cell_type": "code",
      "metadata": {
        "id": "zl-37Ez9ahym",
        "colab": {
          "base_uri": "https://localhost:8080/"
        },
        "outputId": "6c36cf09-3bd1-4986-d3a5-7c515e11f7a9"
      },
      "source": [
        "from datetime import datetime\n",
        "def display_date(day,month,year):\n",
        "  date = datetime(year,month,day)\n",
        "  print(date)\n",
        "  print(date.strftime(\"%Y\"))\n",
        "  print(date.strftime(\"%m\"))\n",
        "  print(date.strftime(\"%B\"))\n",
        "  print(date.strftime(\"%W\"))\n",
        "  print(date.strftime(\"%w\"))\n",
        "  print(date.strftime(\"%j\"))\n",
        "  print(date.strftime(\"%d\"))\n",
        "  print(date.strftime(\"%A\"))\n",
        "\n",
        "display_date(15,10,2000)"
      ],
      "execution_count": 17,
      "outputs": [
        {
          "output_type": "stream",
          "name": "stdout",
          "text": [
            "2000-10-15 00:00:00\n",
            "2000\n",
            "10\n",
            "October\n",
            "41\n",
            "0\n",
            "289\n",
            "15\n",
            "Sunday\n"
          ]
        }
      ]
    },
    {
      "cell_type": "markdown",
      "metadata": {
        "id": "_rpTIoSDaiBj"
      },
      "source": [
        "---\n",
        "### Exercise 8 - next 6 days\n",
        "\n",
        "Write a function that will take a date and generate the dates of the following 6 days.  It should print each of the 6 days in the form:  \n",
        "\n",
        "DAY OF THE WEEK, MONTH NAME, FULL YEAR\n",
        "\n",
        "Hint:  to generate the days, use the function datetime.timedelta(), there is a good example of its use [here](https://www.geeksforgeeks.org/python-datetime-timedelta-function/)  "
      ]
    },
    {
      "cell_type": "code",
      "metadata": {
        "id": "1d-oXqLLb0vX",
        "colab": {
          "base_uri": "https://localhost:8080/"
        },
        "outputId": "d49b5916-58c4-4bbe-cf07-7e70ca7b3fb9"
      },
      "source": [
        "from datetime import datetime, timedelta\n",
        "\n",
        "def get_week_dates(day,month,year):\n",
        "  date = datetime(year,month,day)\n",
        "  print(date.strftime(\"%A\"),\",\", date.strftime(\"%B\"),\",\", date.strftime(\"%Y\"))\n",
        "  for i in range(1,7):\n",
        "    future_date = date + timedelta(days = i)\n",
        "    print(future_date.strftime(\"%A\"),\",\", future_date.strftime(\"%B\"),\",\", future_date.strftime(\"%Y\"))\n",
        "\n",
        "get_week_dates(3,11,2016)\n"
      ],
      "execution_count": 23,
      "outputs": [
        {
          "output_type": "stream",
          "name": "stdout",
          "text": [
            "Thursday , November , 2016\n",
            "Friday , November , 2016\n",
            "Saturday , November , 2016\n",
            "Sunday , November , 2016\n",
            "Monday , November , 2016\n",
            "Tuesday , November , 2016\n",
            "Wednesday , November , 2016\n"
          ]
        }
      ]
    },
    {
      "cell_type": "markdown",
      "metadata": {
        "id": "22Rhwx2Sb1Ey"
      },
      "source": [
        "---\n",
        "### Optional extra practice\n",
        "\n",
        "There are some similar and some more challenging exercises [here](https://www.w3resource.com/python-exercises/date-time-exercise/) if you would like to practice more. The site has its own editor."
      ]
    }
  ]
}