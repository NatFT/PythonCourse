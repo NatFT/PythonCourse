{
  "nbformat": 4,
  "nbformat_minor": 0,
  "metadata": {
    "colab": {
      "name": "Game.ipynb",
      "provenance": [],
      "authorship_tag": "ABX9TyMxv2HKJzl1Ub+SemPy5A8T",
      "include_colab_link": true
    },
    "kernelspec": {
      "name": "python3",
      "display_name": "Python 3"
    },
    "language_info": {
      "name": "python"
    }
  },
  "cells": [
    {
      "cell_type": "markdown",
      "metadata": {
        "id": "view-in-github",
        "colab_type": "text"
      },
      "source": [
        "<a href=\"https://colab.research.google.com/github/NatFT/PythonCourse/blob/main/Game.ipynb\" target=\"_parent\"><img src=\"https://colab.research.google.com/assets/colab-badge.svg\" alt=\"Open In Colab\"/></a>"
      ]
    },
    {
      "cell_type": "code",
      "execution_count": null,
      "metadata": {
        "colab": {
          "base_uri": "https://localhost:8080/"
        },
        "id": "SdBvBC9KG9P5",
        "outputId": "89eb7bb0-e93d-44c6-f766-c1921b763f9f"
      },
      "outputs": [
        {
          "output_type": "stream",
          "name": "stdout",
          "text": [
            "*Check* =  LION\n",
            "____\n",
            "\n",
            "Guess a letter: S\n",
            "\n",
            "        /\\__/\\\n",
            "        \n",
            "S isn't in the word, try again\n",
            "____\n",
            "\n",
            "Guess a letter: B\n",
            "\n",
            "          /\\__/\\\n",
            "        ( =^.^= )\n",
            "        \n",
            "B isn't in the word, try again\n",
            "____\n",
            "\n",
            "Guess a letter: L\n",
            "Well done L is in the word!\n",
            "L___\n",
            "\n",
            "Guess a letter: I\n",
            "Well done I is in the word!\n",
            "LI__\n",
            "\n",
            "Guess a letter: V\n",
            "\n",
            "         /\\__/\\\n",
            "        ( =^.^= )\n",
            "        (\")   (\")\n",
            "        \n",
            "V isn't in the word, try again\n",
            "LI__\n"
          ]
        }
      ],
      "source": [
        "import random\n",
        "\n",
        "def game():\n",
        "    words = ['CAT', 'GIRAFFE', 'LION', 'DOG']\n",
        "    word = random.choice(words)\n",
        "    print(\"*Check* = \",word)\n",
        "    \n",
        "    current_guess = '_' * len(word)\n",
        "    print(current_guess)\n",
        "    list_current_guess = list(current_guess)\n",
        "    \n",
        "    list_letters = list(word)\n",
        "    won = False\n",
        "    incorrect_attempt = 0\n",
        "\n",
        "    visuals = [\n",
        "        \"\"\"\n",
        "        /\\\\__/\\\\\n",
        "        \"\"\", \n",
        "        \"\"\"\n",
        "          /\\\\__/\\\\\n",
        "        ( =^.^= )\n",
        "        \"\"\",\n",
        "        \"\"\"\n",
        "         /\\\\__/\\\\\n",
        "        ( =^.^= )\n",
        "        (\")   (\")\n",
        "        \"\"\",\n",
        "        \"\"\"\n",
        "          /\\\\__/\\\\\n",
        "        ( =^.^= )\n",
        "        (\")   (\")_/  \n",
        "        \"\"\",\n",
        "        \"\"\"\n",
        "        |   /\\\\__/\\\\\n",
        "        |  ( =^.^= )\n",
        "        |  (\")   (\")_/\n",
        "        \"\"\",\n",
        "        \"\"\"\n",
        "        |     /\\\\__/\\\\      |\n",
        "        |   ( =^.^= )    |\n",
        "        |   (\")   (\")_/  |\n",
        "        \"\"\",\n",
        "        \"\"\"\n",
        "           ___________\n",
        "         /             \\\\\n",
        "        |    /\\\\__/\\\\     |\n",
        "        |   ( =^.^= )   |\n",
        "        |   (\")   (\")_/ |\n",
        "        \"\"\"]\n",
        "    \n",
        "\n",
        "\n",
        "    \n",
        "    while won == False:\n",
        "      guess = input(\"\\nGuess a letter: \")\n",
        "      if guess.isalpha() == False:\n",
        "        print(\"This is not a valid letter, please try again\")\n",
        "      elif guess in word:\n",
        "          print(\"Well done\", guess,\"is in the word!\")\n",
        "          index = list_letters.index(guess)\n",
        "          list_current_guess[index] = guess\n",
        "          current_guess = \"\".join(list_current_guess)\n",
        "          print(current_guess)\n",
        "          if current_guess.isalpha() == True:\n",
        "            print(\"Well done, you've won! The anser was\", word)\n",
        "            won = True\n",
        "      else:\n",
        "          print(visuals[incorrect_attempt])\n",
        "          incorrect_attempt += 1\n",
        "          print(guess, \"isn't in the word, try again\")\n",
        "          print(current_guess)\n",
        "\n",
        "\n",
        "game()"
      ]
    },
    {
      "cell_type": "code",
      "source": [
        ""
      ],
      "metadata": {
        "id": "twOJZqs7HZ0V"
      },
      "execution_count": null,
      "outputs": []
    }
  ]
}