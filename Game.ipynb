{
  "nbformat": 4,
  "nbformat_minor": 0,
  "metadata": {
    "colab": {
      "name": "Game.ipynb",
      "provenance": [],
      "authorship_tag": "ABX9TyOxn/DBHwRfT2NcpC+kNNqZ",
      "include_colab_link": true
    },
    "kernelspec": {
      "name": "python3",
      "display_name": "Python 3"
    },
    "language_info": {
      "name": "python"
    }
  },
  "cells": [
    {
      "cell_type": "markdown",
      "metadata": {
        "id": "view-in-github",
        "colab_type": "text"
      },
      "source": [
        "<a href=\"https://colab.research.google.com/github/NatFT/PythonCourse/blob/main/Game.ipynb\" target=\"_parent\"><img src=\"https://colab.research.google.com/assets/colab-badge.svg\" alt=\"Open In Colab\"/></a>"
      ]
    },
    {
      "cell_type": "code",
      "execution_count": 57,
      "metadata": {
        "colab": {
          "base_uri": "https://localhost:8080/"
        },
        "id": "SdBvBC9KG9P5",
        "outputId": "a07efb8f-39e7-4b5f-a8b2-aa329fe75f6c"
      },
      "outputs": [
        {
          "output_type": "stream",
          "name": "stdout",
          "text": [
            "Welcome to Cat Rescue! Guess the word to give the cat a home.\n",
            "____\n",
            "\n",
            "Guess a letter: a\n",
            "\n",
            "        /\\__/\\\n",
            "        \n",
            "A isn't in the word, try again\n",
            "____\n",
            "\n",
            "Guess a letter: e\n",
            "\n",
            "          /\\__/\\\n",
            "        ( =^.^= )\n",
            "        \n",
            "E isn't in the word, try again\n",
            "____\n",
            "\n",
            "Guess a letter: i\n",
            "Well done I is in the word!\n",
            "_I__\n",
            "\n",
            "Guess a letter: l\n",
            "Well done L is in the word!\n",
            "LI__\n",
            "\n",
            "Guess a letter: o\n",
            "Well done O is in the word!\n",
            "LIO_\n",
            "\n",
            "Guess a letter: n\n",
            "Well done N is in the word!\n",
            "Well done, you've won! The answer was LION\n"
          ]
        }
      ],
      "source": [
        "import random\n",
        "\n",
        "def game():\n",
        "    words = ['Lion', 'Tiger', 'Zebra', 'Giraffe', 'Cat', 'Monkey', 'Dog', 'Goat', 'Chicken', 'Panda']\n",
        "    word = random.choice(words).upper()\n",
        "    #print(\"*Check* = \",word)\n",
        "    \n",
        "    current_guess = '_' * len(word)\n",
        "    list_current_guess = list(current_guess)\n",
        "    \n",
        "    list_letters = list(word)\n",
        "    end = False\n",
        "    incorrect_attempt = 0\n",
        "\n",
        "    visuals = [\n",
        "        \"\"\"\n",
        "        /\\\\__/\\\\\n",
        "        \"\"\", \n",
        "        \"\"\"\n",
        "          /\\\\__/\\\\\n",
        "        ( =^.^= )\n",
        "        \"\"\",\n",
        "        \"\"\"\n",
        "          /\\\\__/\\\\\n",
        "        ( =^.^= )\n",
        "        (\")   (\")\n",
        "        \"\"\",\n",
        "        \"\"\"\n",
        "          /\\\\__/\\\\\n",
        "        ( =^.^= )\n",
        "        (\")   (\")_/  \n",
        "        \"\"\",\n",
        "        \"\"\"\n",
        "        |   /\\\\__/\\\\\n",
        "        |  ( =^.^= )\n",
        "        |  (\")   (\")_/\n",
        "        \"\"\",\n",
        "        \"\"\"\n",
        "        |     /\\\\__/\\\\     |\n",
        "        |   ( =^.^= )    |\n",
        "        |   (\")   (\")_/  |\n",
        "        \"\"\",\n",
        "        \"\"\"\n",
        "           ___________\n",
        "         /             \\\\\n",
        "        |    /\\\\__/\\\\     |\n",
        "        |   ( =^.^= )   |\n",
        "        |   (\")   (\")_/ |\n",
        "        \"\"\"]\n",
        "    print(\"Welcome to Cat Rescue! Guess the word to give the cat a home.\")  \n",
        "    while end == False:\n",
        "        print(current_guess)\n",
        "        guess = input(\"\\nGuess a letter: \").upper()\n",
        "        if guess.isalpha() == False:\n",
        "          print(\"This is not a valid letter, please try again\")\n",
        "        elif guess in word:\n",
        "            print(\"Well done\", guess,\"is in the word!\")\n",
        "            index = list_letters.index(guess)\n",
        "            list_current_guess[index] = guess\n",
        "            current_guess = \"\".join(list_current_guess)\n",
        "            if current_guess.isalpha() == True:\n",
        "              print(\"You've won! The answer was\", word)\n",
        "              end = True\n",
        "        else:\n",
        "          if incorrect_attempt < 6:\n",
        "            print(visuals[incorrect_attempt])\n",
        "            print(guess, \"isn't in the word, try again\")\n",
        "            incorrect_attempt += 1\n",
        "          elif incorrect_attempt == 6:\n",
        "            print(visuals[incorrect_attempt])\n",
        "            print(\"You didn't win this time.\")\n",
        "            end = True\n",
        "    \n",
        "\n",
        "game()"
      ]
    },
    {
      "cell_type": "code",
      "source": [
        ""
      ],
      "metadata": {
        "id": "twOJZqs7HZ0V"
      },
      "execution_count": null,
      "outputs": []
    }
  ]
}