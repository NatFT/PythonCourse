{
  "nbformat": 4,
  "nbformat_minor": 0,
  "metadata": {
    "colab": {
      "name": "Titanic.ipynb",
      "provenance": [],
      "authorship_tag": "ABX9TyOoQmn44SQFE/wiBsXCOFE5",
      "include_colab_link": true
    },
    "kernelspec": {
      "name": "python3",
      "display_name": "Python 3"
    },
    "language_info": {
      "name": "python"
    }
  },
  "cells": [
    {
      "cell_type": "markdown",
      "metadata": {
        "id": "view-in-github",
        "colab_type": "text"
      },
      "source": [
        "<a href=\"https://colab.research.google.com/github/NatFT/PythonCourse/blob/main/Titanic.ipynb\" target=\"_parent\"><img src=\"https://colab.research.google.com/assets/colab-badge.svg\" alt=\"Open In Colab\"/></a>"
      ]
    },
    {
      "cell_type": "code",
      "execution_count": 39,
      "metadata": {
        "colab": {
          "base_uri": "https://localhost:8080/"
        },
        "id": "YG-23yERnQyy",
        "outputId": "6a600e4b-807c-403f-c113-8522e5a8c90b"
      },
      "outputs": [
        {
          "output_type": "stream",
          "name": "stdout",
          "text": [
            "Of the passengers that boarded the Titanic,  24.0 % were first class,  21.0 % were second class and  55.0 % were third class.\n",
            "Dispite this,  40.0 % of survivors were first class passengers, 25.0 % were second class passengers and 35.0 % of survivors were third class passengers.\n",
            "Of the passengers that died on the Titanic,  15.0 % were first class, 18.0 % were second class and 68.0 % were third class.\n",
            "Of all the first class passengers on the Titanic 63.0 % survived. Of all the second class passengers 47.0 % survived. Of all the third class passengers on the Titanic, only 24.0 % survived.\n"
          ]
        }
      ],
      "source": [
        "import pandas as pd \n",
        "# open the data file and get a copy of the Titles column \n",
        "def get_pclass_and_survived():   \n",
        "  url = \"https://raw.githubusercontent.com/pandas-dev/pandas/master/doc/data/titanic.csv\"   \n",
        "  data_table = pd.read_csv(url)   \n",
        "  return data_table[\"Survived\"].tolist(), data_table[\"Pclass\"].tolist()  \n",
        "\n",
        "survived, Pclass = get_pclass_and_survived()\n",
        "\n",
        "def third_class_survival():\n",
        "  total_pax = len(Pclass)\n",
        "  total_survived = survived.count(1)\n",
        "  total_died = survived.count(0)\n",
        "\n",
        "  num_first_class = Pclass.count(1)\n",
        "  num_second_class = Pclass.count(2)\n",
        "  num_third_class = Pclass.count(3)\n",
        "  \n",
        "  first_class_survived = 0\n",
        "  second_class_survived = 0\n",
        "  third_class_survived = 0\n",
        "\n",
        "  perc_first_class = num_first_class / total_pax * 100\n",
        "  perc_second_class = num_second_class / total_pax * 100\n",
        "  perc_third_class = num_third_class / total_pax * 100\n",
        "\n",
        "  for i in range(total_pax):\n",
        "    if Pclass[i] == 1 and survived[i] == 1:\n",
        "        first_class_survived += 1\n",
        "  perc_total_survived_first = first_class_survived / total_survived * 100\n",
        "  perc_of_first_class_survived = first_class_survived / num_first_class * 100\n",
        "  first_class_died = num_first_class - first_class_survived\n",
        "  perc_of_deaths_first_class = first_class_died / total_died * 100 \n",
        "\n",
        "  for i in range(total_pax):\n",
        "    if Pclass[i] == 2 and survived[i] == 1:\n",
        "        second_class_survived += 1\n",
        "  perc_total_survived_second = second_class_survived / total_survived * 100\n",
        "  perc_of_second_class_survived = second_class_survived / num_second_class * 100\n",
        "  second_class_died = num_second_class - second_class_survived\n",
        "  perc_of_deaths_second_class = second_class_died / total_died * 100\n",
        "\n",
        "  for i in range(total_pax):\n",
        "    if Pclass[i] == 3 and survived[i] == 1:\n",
        "        third_class_survived += 1\n",
        "  perc_total_survived_third = third_class_survived / total_survived * 100\n",
        "  perc_of_third_class_survived = third_class_survived / num_third_class * 100\n",
        "  third_class_died = num_third_class - third_class_survived\n",
        "  perc_of_deaths_third_class = third_class_died / total_died * 100\n",
        "  \n",
        "  \n",
        "  print(\"Of the passengers that boarded the Titanic, \", round(perc_first_class,0),\"% were first class, \", round(perc_second_class,0),\"% were second class and \", round(perc_third_class,0),\"% were third class.\")\n",
        "  print(\"Dispite this, \", round(perc_total_survived_first,0),\"% of survivors were first class passengers,\", round(perc_total_survived_second,0),\"% were second class passengers and\", round(perc_total_survived_third,0),\"% of survivors were third class passengers.\")\n",
        "  print(\"Of the passengers that died on the Titanic, \", round(perc_of_deaths_first_class,0), \"% were first class,\", round(perc_of_deaths_second_class,0), \"% were second class and\",round(perc_of_deaths_third_class,0), \"% were third class.\")\n",
        "  print(\"Of all the first class passengers on the Titanic\",round(perc_of_first_class_survived,0),\"% survived. Of all the second class passengers\",round(perc_of_second_class_survived,0),\"% survived. Of all the third class passengers on the Titanic, only\",round(perc_of_third_class_survived,0),\"% survived.\")\n",
        "\n",
        "\n",
        "third_class_survival()"
      ]
    }
  ]
}